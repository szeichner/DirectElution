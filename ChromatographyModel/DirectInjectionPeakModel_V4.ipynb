{
 "cells": [
  {
   "cell_type": "code",
   "execution_count": 2,
   "metadata": {},
   "outputs": [
    {
     "data": {
      "text/plain": [
       "'\\nLast Modified: Tuesday Nov 16, 2021\\n@author: sarahzeichner\\n\\nModel to approximate peaks and understand cutoff differences in ratios\\n\\n'"
      ]
     },
     "execution_count": 2,
     "metadata": {},
     "output_type": "execute_result"
    }
   ],
   "source": [
    "##!/usr/bin/env python3\n",
    "# -*- coding: utf-8 -*-\n",
    "\"\"\"\n",
    "Last Modified: Tuesday Nov 16, 2021\n",
    "@author: sarahzeichner\n",
    "\n",
    "Model to approximate peaks and understand cutoff differences in ratios\n",
    "\n",
    "\"\"\""
   ]
  },
  {
   "cell_type": "code",
   "execution_count": 3,
   "metadata": {},
   "outputs": [],
   "source": [
    "import numpy as np\n",
    "from scipy import stats\n",
    "from decimal import *\n",
    "import matplotlib.pyplot as plt\n",
    "from prettytable import PrettyTable\n",
    "import pandas as pd\n",
    "from mpl_toolkits.mplot3d import Axes3D"
   ]
  },
  {
   "cell_type": "markdown",
   "metadata": {},
   "source": [
    "Define gaussian to be able to make fake peaks"
   ]
  },
  {
   "cell_type": "code",
   "execution_count": 4,
   "metadata": {},
   "outputs": [],
   "source": [
    "def gaussian(x,a,x0,sigma,c):\n",
    "    return a*np.exp(-(x-x0)**2/((2*sigma)**2))+c"
   ]
  },
  {
   "cell_type": "markdown",
   "metadata": {},
   "source": [
    "Test the gaussian function with different parameters to choose parameters (defined above) to loop through"
   ]
  },
  {
   "cell_type": "code",
   "execution_count": 5,
   "metadata": {},
   "outputs": [
    {
     "data": {
      "image/png": "[encoded data removed]",
      "text/plain": [
       "<Figure size 432x288 with 1 Axes>"
      ]
     },
     "metadata": {
      "needs_background": "light"
     },
     "output_type": "display_data"
    }
   ],
   "source": [
    "#test and plot gaussian to see how it affects different parameters\n",
    "time = np.arange(0.001,1000,0.2)\n",
    "time_mean = np.average(time)\n",
    "\n",
    "norm_dist = gaussian(time,1e8,100,6+0.2*time,0)\n",
    "norm_dist_2 = gaussian(time,1e6,100.1,2+0.2*time,0)\n",
    "plt.plot(time,norm_dist)\n",
    "plt.plot(time,norm_dist_2)\n",
    "plt.show()"
   ]
  },
  {
   "cell_type": "markdown",
   "metadata": {},
   "source": [
    "Set up parameters to model the peaks"
   ]
  },
  {
   "cell_type": "code",
   "execution_count": 6,
   "metadata": {},
   "outputs": [],
   "source": [
    "time_start = 0.001\n",
    "time_stop = 1000\n",
    "time_step = 0.001\n",
    "CN = 4.4 #scaling factor to convert NL scores to counts, from Eiler et al 2017\n",
    "\n",
    "#properties of orbitrap measurement\n",
    "scanLength = .3 #300 ms scan for 120k resolution\n",
    "AGC_target = 2E5 #2e5 agc target\n",
    "resolution = 120000 #resolution used for the experiment\n",
    "maxITTime = 3 #3000ms max IT\n",
    "\n",
    "#properties of the peak\n",
    "M_mean = 100 \n",
    "peakOffsetInTime = np.arange(0,0.15,0.01) #50-150ms offset for 13C based on Ricci data\n",
    "M_sigma = np.arange(1,6,1) #Use the same sigma for both fragments to assume that they are eluting for the same time period\n",
    "M_skew = np.arange(0.1,0.25,0.025)\n",
    "M_ampl_NL = 1E8\n",
    "Mplus1_relativeAbundance = .01 #set to roughly natural abundance of 13C/12C\n",
    "M_ampl = M_ampl_NL * CN *np.power((120000/resolution),0.5) #Convert to counts\n",
    "Mplus1_ampl = M_ampl * Mplus1_relativeAbundance #Calculate maximum height of substituted peak based on given relative abundance\n",
    "M_background = M_ampl/1000 #background is roughly 1E5 for 1E8 intensity (assuming 1% height of peaks)\n",
    "Mplus1_background = Mplus1_ampl/1000\n",
    "\n",
    "# properties of data processing\n",
    "scanCull = np.arange(0,0.2,0.025) #Cull scan height between 10 and 20% of maximum peak height\n",
    "\n",
    "# Return variable arrays\n",
    "unculled_ratio_array = []\n",
    "culled_ratio_array = []\n",
    "ratio_diff_array = []\n",
    "peak_offset_array = []\n",
    "sigma_array = []\n",
    "scan_cull_array = []\n",
    "skew_array = []\n",
    "amount_culled_array = []"
   ]
  },
  {
   "cell_type": "markdown",
   "metadata": {},
   "source": [
    "Loop through the defined parameters for the model"
   ]
  },
  {
   "cell_type": "code",
   "execution_count": 81,
   "metadata": {},
   "outputs": [],
   "source": [
    "for i in peakOffsetInTime:\n",
    "    for j in M_sigma:\n",
    "        for k in M_skew:\n",
    "                for l in scanCull:\n",
    "                    #Compute offset of M_plus1 peak\n",
    "                    Mplus1_mean = M_mean + i\n",
    "                                    \n",
    "                    #Calculate an array based on scan times\n",
    "                    time_array = np.arange(time_start, time_stop, time_step)\n",
    "\n",
    "                    sigma = j + (k*time_array)\n",
    "                    M_array = gaussian(time_array,M_ampl,M_mean,sigma,M_background)\n",
    "                    Mplus1_array = gaussian(time_array,Mplus1_ampl,Mplus1_mean,sigma,Mplus1_background)\n",
    "\n",
    "                    #Calculate a ratio for each of the arrays for the original ratio\n",
    "                    unculled_M_sum = np.sum(M_array)\n",
    "                    unculled_Mplus1_sum = np.sum(Mplus1_array)\n",
    "                    unculled_ratio = (unculled_Mplus1_sum)/(unculled_M_sum)\n",
    "                    unculled_ratio_array.append(unculled_ratio)\n",
    "\n",
    "                    #Cull based on input fragment height parameters\n",
    "                    cullThreshold = l * M_ampl\n",
    "                    time_cull_indices = np.where(M_array < cullThreshold)\n",
    "\n",
    "                    #set up indexer for looping through ctrap and orbitrap filling\n",
    "                    orbitrap_measurement_time_indexer = np.zeros(len(time_array))\n",
    "                    measurement_end_index = len(time_array) -1\n",
    "\n",
    "                    #Set up time points for Ctrap and Orbitrap filling\n",
    "                    agc_fill_index = 0\n",
    "                    agc_fill_start = time_array[agc_fill_index]\n",
    "                    itTimeCurrentScan = 0.3\n",
    "                    agc_fill_stop = agc_fill_start + itTimeCurrentScan\n",
    "                    agc_stop_index = agc_fill_index + int((agc_fill_stop - agc_fill_start)/time_step)\n",
    "                    scan_start_time = agc_fill_stop\n",
    "                    scan_start_index = agc_stop_index\n",
    "                    scan_stop_time = round(scan_start_time + scanLength,3) #time step to determine when scan stops\n",
    "                    scan_stop_index = scan_start_index + int((scan_stop_time - scan_start_time)/time_step)\n",
    "                    \n",
    "                    cTrapIonSum = 0.001\n",
    "                    itTimeSum = 0\n",
    "\n",
    "                    #Loop through and process which scans are seen and which are not\n",
    "                    while agc_fill_index < measurement_end_index:\n",
    "                        #Set up indices for agc and scan length\n",
    "                        current_agc_fill_time = time_array[agc_fill_index]\n",
    "                        \n",
    "                        #indicate use of current step in culled ratio calculation\n",
    "                        orbitrap_measurement_time_indexer[agc_fill_index] = 1\n",
    "                        #add ions to the ctrap for the current time step\n",
    "                        cTrapIonSum = cTrapIonSum + (M_array[agc_fill_index] + Mplus1_array[agc_fill_index])*time_step\n",
    "\n",
    "                        #check to see if the ctrap is full\n",
    "                        if current_agc_fill_time >= agc_fill_stop: #Ctrap meets the agc target, so wait until the next scan starts \n",
    "                            if scan_stop_index < measurement_end_index: #check to make sure the next scan doesn't start beyond the peak tail\n",
    "                                scan_start_index = scan_stop_index #set the scan start to the end of the last scan\n",
    "                                itTimeCurrentScan = np.divide(itTimeCurrentScan,cTrapIonSum) * AGC_target #recalculate the IT time for the next scan based on ion fluence of current scan\n",
    "\n",
    "                                #handle for different cases of how long the IT time is\n",
    "                                if itTimeCurrentScan > maxITTime:\n",
    "                                    itTimeCurrentScan = maxITTime\n",
    "                                    agc_fill_index = scan_start_index\n",
    "                                elif itTimeCurrentScan >= scanLength:\n",
    "                                    agc_fill_index = scan_start_index\n",
    "                                else:\n",
    "                                    agc_fill_index = scan_start_index + int((scan_stop_time - itTimeCurrentScan)/time_step) #set the agc to start filling before the end of the scan, by the precalculated IT time from the current scan\n",
    "\n",
    "                                #reset time start and stop indices, clear the ctrap\n",
    "                                if agc_fill_index < measurement_end_index:\n",
    "                                    agc_fill_start = time_array[agc_fill_index]\n",
    "                                    agc_fill_stop = agc_fill_start + itTimeCurrentScan\n",
    "                                    agc_stop_index = agc_fill_index + int((agc_fill_stop - agc_fill_start)/time_step)\n",
    "\n",
    "                                    if agc_stop_index < measurement_end_index:\n",
    "                                        scan_start_time = agc_fill_stop\n",
    "                                        scan_start_index = agc_stop_index\n",
    "                                        scan_stop_time = round(scan_start_time + scanLength,3) #time step to determine when scan stops\n",
    "                                        scan_stop_index = scan_start_index + int((scan_stop_time - scan_start_time)/time_step)\n",
    "                                        cTrapIonSum = 0.001 #clear the Ctrap , but set to a non zero value so it does not error out as nan\n",
    "                                    else:\n",
    "                                        #print(\"index ending #:\" + str(scan_start_index) +\"; next fill stop index is bigger than the length of the time array\")\n",
    "                                        break\n",
    "                                else:\n",
    "                                    #print(\"index ending #:\" + str(scan_start_index) +\"; next fill start index is bigger than the length of the time array\")\n",
    "                                    break\n",
    "                            else:\n",
    "                                #print(\"index ending #:\" + str(scan_start_index) +\"; agc end index is bigger than the length of the time array\")\n",
    "                                break\n",
    "                        else: #continue filling the ctrap with the next scan\n",
    "                            agc_fill_index = agc_fill_index + 1\n",
    "\n",
    "                    #Cull based on input fragment height parameters and orbitrap time binning\n",
    "                    cull_indices = np.where(orbitrap_measurement_time_indexer == 0)\n",
    "\n",
    "                    #cull out scans that don't count\n",
    "                    M_array[time_cull_indices] = 0\n",
    "                    Mplus1_array[time_cull_indices] = 0\n",
    "                    M_array[cull_indices] = 0\n",
    "                    Mplus1_array[cull_indices] = 0\n",
    "                \n",
    "                    #Calculate ratio for culled scans\n",
    "                    culled_M_sum = np.sum(M_array)\n",
    "                    culled_Mplus1_sum = np.sum(Mplus1_array)\n",
    "                    culled_ratio = (culled_Mplus1_sum)/(culled_M_sum)\n",
    "                    culled_ratio_array.append(culled_ratio)\n",
    "\n",
    "                    #Compute difference between culled and unculled\n",
    "                    ratio_diff = ((culled_ratio - unculled_ratio)/unculled_ratio) *1000\n",
    "                    amount_culled = culled_M_sum / unculled_M_sum\n",
    "\n",
    "                    #add ratio diff to array for looping\n",
    "                    ratio_diff_array.append(ratio_diff)\n",
    "                    peak_offset_array.append(i)\n",
    "                    sigma_array.append(j)\n",
    "                    scan_cull_array.append(l)\n",
    "                    skew_array.append(k)\n",
    "                    amount_culled_array.append(amount_culled)\n",
    "\n",
    "                    time_array = []"
   ]
  },
  {
   "cell_type": "markdown",
   "metadata": {},
   "source": [
    "Print the average and standard deviation for the model runs"
   ]
  },
  {
   "cell_type": "code",
   "execution_count": 82,
   "metadata": {},
   "outputs": [
    {
     "name": "stdout",
     "output_type": "stream",
     "text": [
      "average error:1.8643829035627217\n",
      "stdev error:1.6458605729806564\n"
     ]
    }
   ],
   "source": [
    "print(\"average error:\" + str(np.average(np.absolute(ratio_diff_array))))\n",
    "print(\"stdev error:\" + str(np.std((np.absolute(ratio_diff_array)))))\n"
   ]
  },
  {
   "cell_type": "markdown",
   "metadata": {},
   "source": [
    "Plot and output the results to a csv"
   ]
  },
  {
   "cell_type": "code",
   "execution_count": 83,
   "metadata": {},
   "outputs": [
    {
     "data": {
      "image/png": "[encoded data removed]",
      "text/plain": [
       "<Figure size 432x288 with 2 Axes>"
      ]
     },
     "metadata": {
      "needs_background": "light"
     },
     "output_type": "display_data"
    }
   ],
   "source": [
    "#create scatterplot\n",
    "hfont = {'fontname':'Helvetica'}\n",
    "plt.scatter(peak_offset_array, np.absolute(ratio_diff_array), s=50, c=scan_cull_array, cmap=\"plasma\", alpha=0.5)\n",
    "plt.draw()\n",
    "plt.colorbar()\n",
    "plt.rc(hfont)\n",
    "plt.savefig(\"/Users/sarahzeichner/Documents/Caltech/Research/Direct Injection/drafts/figures/modelIterations.svg\", format=\"svg\")\n",
    "plt.show()"
   ]
  },
  {
   "cell_type": "code",
   "execution_count": 84,
   "metadata": {},
   "outputs": [],
   "source": [
    "df = pd.DataFrame({ \"peak offset\" : peak_offset_array, \\\n",
    "                    \"sigma\" : sigma_array, \n",
    "                    \"scan cull\" : scan_cull_array, \\\n",
    "                    \"skew\" : skew_array, \\\n",
    "                    \"unculled ratio\" : unculled_ratio_array, \\\n",
    "                    \"culled ratio\" : culled_ratio_array, \\\n",
    "                    \"original peak amt culled\": amount_culled_array,\\\n",
    "                    \"error\" : np.absolute(ratio_diff_array)   })\n",
    "df.to_csv(\"peakModelOutput_WithOrbitrapCTrapBinning_testShortPeak.csv\", index=False)"
   ]
  },
  {
   "cell_type": "markdown",
   "metadata": {},
   "source": [
    "Now, we will model sample standard comparison to see how much changes in this affects the results"
   ]
  },
  {
   "cell_type": "code",
   "execution_count": 7,
   "metadata": {},
   "outputs": [],
   "source": [
    "'''\n",
    "This function performs all the logic of the above loop, but nested in a function so it can be used\n",
    "for sample standard comparison.\n",
    "'''\n",
    "def modelPeakRatios(M_ampl, Mplus1_ampl, M_mean, peakOffsetInTime,\\\n",
    "                    M_sigma, M_skew, M_background, Mplus1_background,\\\n",
    "                    time_start,time_stop, time_step, scanCull):\n",
    "\n",
    "\n",
    "    #Compute offset of M_plus1 peak\n",
    "    Mplus1_mean = M_mean + peakOffsetInTime\n",
    "                    \n",
    "    #Calculate an array based on scan times\n",
    "    time_array = np.arange(time_start, time_stop, time_step)\n",
    "\n",
    "    sigma = M_sigma + (M_skew*time_array)\n",
    "    M_array = gaussian(time_array,M_ampl,M_mean,sigma,M_background)\n",
    "    Mplus1_array = gaussian(time_array,Mplus1_ampl,Mplus1_mean,sigma,Mplus1_background)\n",
    "\n",
    "    #Calculate a ratio for each of the arrays for the original ratio\n",
    "    unculled_M_sum = np.sum(M_array)\n",
    "    unculled_Mplus1_sum = np.sum(Mplus1_array)\n",
    "    unculled_ratio = (unculled_Mplus1_sum)/(unculled_M_sum)\n",
    "\n",
    "    #Cull based on input fragment height parameters\n",
    "    cullThreshold = scanCull * M_ampl\n",
    "    time_cull_indices = np.where(M_array < cullThreshold)\n",
    "\n",
    "    #set up indexer for looping through ctrap and orbitrap filling\n",
    "    orbitrap_measurement_time_indexer = np.zeros(len(time_array))\n",
    "    measurement_end_index = len(time_array) -1\n",
    "\n",
    "    #Set up time points for Ctrap and Orbitrap filling\n",
    "    agc_fill_index = 0\n",
    "    agc_fill_start = time_array[agc_fill_index]\n",
    "    itTimeCurrentScan = 0.3\n",
    "    agc_fill_stop = agc_fill_start + itTimeCurrentScan\n",
    "    agc_stop_index = agc_fill_index + int((agc_fill_stop - agc_fill_start)/time_step)\n",
    "    scan_start_time = agc_fill_stop\n",
    "    scan_start_index = agc_stop_index\n",
    "    scan_stop_time = round(scan_start_time + scanLength,3) #time step to determine when scan stops\n",
    "    scan_stop_index = scan_start_index + int((scan_stop_time - scan_start_time)/time_step)\n",
    "    \n",
    "    cTrapIonSum = 0.001\n",
    "\n",
    "    #Loop through and process which scans are seen and which are not\n",
    "    while agc_fill_index < measurement_end_index:\n",
    "        #Set up indices for agc and scan length\n",
    "        current_agc_fill_time = time_array[agc_fill_index]\n",
    "        \n",
    "        #indicate use of current step in culled ratio calculation\n",
    "        orbitrap_measurement_time_indexer[agc_fill_index] = 1\n",
    "        #add ions to the ctrap for the current time step\n",
    "        cTrapIonSum = cTrapIonSum + (M_array[agc_fill_index] + Mplus1_array[agc_fill_index])*time_step\n",
    "\n",
    "        #check to see if the ctrap is full\n",
    "        if current_agc_fill_time >= agc_fill_stop: #Ctrap meets the agc target, so wait until the next scan starts \n",
    "            if scan_stop_index < measurement_end_index: #check to make sure the next scan doesn't start beyond the peak tail\n",
    "                scan_start_index = scan_stop_index #set the scan start to the end of the last scan\n",
    "                itTimeCurrentScan = np.divide(itTimeCurrentScan,cTrapIonSum) * AGC_target #recalculate the IT time for the next scan based on ion fluence of current scan\n",
    "\n",
    "                #handle for different cases of how long the IT time is\n",
    "                if itTimeCurrentScan > maxITTime:\n",
    "                    itTimeCurrentScan = maxITTime\n",
    "                    agc_fill_index = scan_start_index\n",
    "                elif itTimeCurrentScan >= scanLength:\n",
    "                    agc_fill_index = scan_start_index\n",
    "                else:\n",
    "                    agc_fill_index = scan_start_index + int((scan_stop_time - itTimeCurrentScan)/time_step) #set the agc to start filling before the end of the scan, by the precalculated IT time from the current scan\n",
    "\n",
    "                #reset time start and stop indices, clear the ctrap\n",
    "                if agc_fill_index < measurement_end_index:\n",
    "                    agc_fill_start = time_array[agc_fill_index]\n",
    "                    agc_fill_stop = agc_fill_start + itTimeCurrentScan\n",
    "                    agc_stop_index = agc_fill_index + int((agc_fill_stop - agc_fill_start)/time_step)\n",
    "\n",
    "                    if agc_stop_index < measurement_end_index:\n",
    "                        scan_start_time = agc_fill_stop\n",
    "                        scan_start_index = agc_stop_index\n",
    "                        scan_stop_time = round(scan_start_time + scanLength,3) #time step to determine when scan stops\n",
    "                        scan_stop_index = scan_start_index + int((scan_stop_time - scan_start_time)/time_step)\n",
    "                        cTrapIonSum = 0.001 #clear the Ctrap , but set to a non zero value so it does not error out as nan\n",
    "                    else:\n",
    "                        #print(\"index ending #:\" + str(scan_start_index) +\"; next fill stop index is bigger than the length of the time array\")\n",
    "                        break\n",
    "                else:\n",
    "                    #print(\"index ending #:\" + str(scan_start_index) +\"; next fill start index is bigger than the length of the time array\")\n",
    "                    break\n",
    "            else:\n",
    "                #print(\"index ending #:\" + str(scan_start_index) +\"; agc end index is bigger than the length of the time array\")\n",
    "                break\n",
    "        else: #continue filling the ctrap with the next scan\n",
    "            agc_fill_index = agc_fill_index + 1\n",
    "\n",
    "    #Cull based on input fragment height parameters and orbitrap time binning\n",
    "    cull_indices = np.where(orbitrap_measurement_time_indexer == 0)\n",
    "\n",
    "    #cull out scans that don't count\n",
    "    M_array[time_cull_indices] = 0\n",
    "    Mplus1_array[time_cull_indices] = 0\n",
    "    M_array[cull_indices] = 0\n",
    "    Mplus1_array[cull_indices] = 0\n",
    "\n",
    "    #Calculate ratio for culled scans\n",
    "    culled_M_sum = np.sum(M_array)\n",
    "    culled_Mplus1_sum = np.sum(Mplus1_array)\n",
    "    culled_ratio = (culled_Mplus1_sum)/(culled_M_sum)\n",
    "\n",
    "    #Compute difference between culled and unculled\n",
    "    ratio_diff = ((culled_ratio - unculled_ratio)/unculled_ratio) *1000\n",
    "\n",
    "    return unculled_ratio, culled_ratio, ratio_diff"
   ]
  },
  {
   "cell_type": "markdown",
   "metadata": {},
   "source": [
    "Loop through properties of samples/standards to test what the error would be like for different cases"
   ]
  },
  {
   "cell_type": "code",
   "execution_count": 28,
   "metadata": {},
   "outputs": [
    {
     "name": "stdout",
     "output_type": "stream",
     "text": [
      "0.5403934259200639\n"
     ]
    }
   ],
   "source": [
    "#properties of the sample/standard comparison\n",
    "sample_standard_delta = 1\n",
    "sample_standard_ratio = (sample_standard_delta/1000)+1\n",
    "\n",
    "#vary the difference in maximum peak height to simulate slight differences in concentration added\n",
    "peak_concentration_difference = 30\n",
    "\n",
    "#set up the different peaks for sample and standard\n",
    "std_unsubstituted_height = 1E8\n",
    "std_substituted_height = 1E6\n",
    "sigma_std = 2 \n",
    "std_skew = 0.1\n",
    "\n",
    "sample_unsusbstituted_height = std_unsubstituted_height * peak_concentration_difference\n",
    "sample_substituted_height = std_substituted_height * peak_concentration_difference * sample_standard_ratio\n",
    "sigma_sample = 3\n",
    "sample_skew = 0.1\n",
    "\n",
    "unsubbackground = 1E6 #background to add to peaks, currently set to xero\n",
    "subbackground = 1E4\n",
    "\n",
    "#set up the chromatographic properties and time elution arrays\n",
    "peak_elution_mean_time = 100\n",
    "peakOffsetInTime = 0.1\n",
    "\n",
    "time_start = 0.001\n",
    "time_stop = 1000\n",
    "time_step = 0.001\n",
    "\n",
    "#properties of orbitrap measurement\n",
    "scanLength = .3 #300 ms scan for 120k resolution\n",
    "\n",
    "# properties of data processing\n",
    "scanCull = 0.1 \n",
    "\n",
    "sample_unculled, sample_culled, sample_diff = modelPeakRatios(sample_unsusbstituted_height, sample_substituted_height, peak_elution_mean_time, peakOffsetInTime,\\\n",
    "                                                                sigma_sample, sample_skew, unsubbackground, subbackground,\\\n",
    "                                                                time_start,time_stop, time_step, scanCull)\n",
    "std_unculled, std_culled, std_diff = modelPeakRatios(std_unsubstituted_height, std_substituted_height, peak_elution_mean_time, peakOffsetInTime,\\\n",
    "                                                                sigma_std, std_skew, unsubbackground, subbackground,\\\n",
    "                                                                time_start,time_stop, time_step, scanCull)\n",
    "\n",
    "unculled_R = sample_unculled / std_unculled\n",
    "culled_R = sample_culled / std_culled\n",
    "Rval_diff = ((unculled_R - culled_R)/unculled_R) * 1000\n",
    "print(abs(Rval_diff))"
   ]
  },
  {
   "cell_type": "markdown",
   "metadata": {},
   "source": [
    "Plot some of the results of the sample/standard comparison model"
   ]
  },
  {
   "cell_type": "code",
   "execution_count": 21,
   "metadata": {},
   "outputs": [
    {
     "data": {
      "image/png": "[encoded data removed]",
      "text/plain": [
       "<Figure size 432x288 with 1 Axes>"
      ]
     },
     "metadata": {
      "needs_background": "light"
     },
     "output_type": "display_data"
    }
   ],
   "source": [
    "#Log log plot of error versus per mille enrichment sample versus std\n",
    "x = (1, 10, 100, 1000)\n",
    "y = (0.3212179600604015,1.0716007856963352, 13.941713054047739,84.8116186389343)\n",
    "plt.scatter(np.log(x),np.log(y), color=\"black\")\n",
    "plt.savefig(\"/Users/sarahzeichner/Documents/Caltech/Research/Direct Injection/drafts/figures/sampleStandard.svg\", format=\"svg\")\n",
    "plt.show()"
   ]
  },
  {
   "cell_type": "code",
   "execution_count": null,
   "metadata": {},
   "outputs": [
    {
     "data": {
      "image/png": "[encoded data removed]",
      "text/plain": [
       "<Figure size 432x288 with 1 Axes>"
      ]
     },
     "metadata": {
      "needs_background": "light"
     },
     "output_type": "display_data"
    }
   ],
   "source": [
    "#Error versus Concentration difference in sample and standard (to test importance of concentration matching)\n",
    "x = (1, 2, 5, 10, 20, 30, 50)\n",
    "y = (0.3212179600604015,0.4264584198905711,0.49936772537570223,0.5244358355521229,0.5365140188759234, 0.5403934259200639, 0.5435057933336671)\n",
    "plt.scatter(x,y, color=\"black\")\n",
    "plt.savefig(\"/Users/sarahzeichner/Documents/Caltech/Research/Direct Injection/drafts/figures/concentrationVariation.svg\", format=\"svg\")\n",
    "plt.show()"
   ]
  }
 ],
 "metadata": {
  "interpreter": {
   "hash": "40d3a090f54c6569ab1632332b64b2c03c39dcf918b08424e98f38b5ae0af88f"
  },
  "kernelspec": {
   "display_name": "Python 3.7.6 64-bit ('base': conda)",
   "name": "python3"
  },
  "language_info": {
   "codemirror_mode": {
    "name": "ipython",
    "version": 3
   },
   "file_extension": ".py",
   "mimetype": "text/x-python",
   "name": "python",
   "nbconvert_exporter": "python",
   "pygments_lexer": "ipython3",
   "version": "3.7.6"
  }
 },
 "nbformat": 4,
 "nbformat_minor": 4
}
